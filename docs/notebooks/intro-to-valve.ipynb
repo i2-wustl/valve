{
 "cells": [
  {
   "cell_type": "markdown",
   "id": "0c778ab7-0fe7-4702-94d0-324a3ea69349",
   "metadata": {},
   "source": [
    "# Running Valve in a Juypter Notebook Environment\n",
    "\n",
    "This notebook is an experiment on running the [valve](https://github.com/i2-wustl/valve) CLI and Python API within a notebook environment."
   ]
  },
  {
   "cell_type": "markdown",
   "id": "8704bdc5-2508-436f-9e6e-21c6ed23d3db",
   "metadata": {},
   "source": [
    "## Phase 1: Installation\n",
    "\n",
    "_(We shouldn't need to do this if we're already running this notebook from a virtual environment where valve is already installed)_"
   ]
  },
  {
   "cell_type": "code",
   "execution_count": null,
   "id": "31b924b7-8da2-401c-ab82-d22cacee04bb",
   "metadata": {},
   "outputs": [],
   "source": [
    "!pip install git+ssh://git@github.com/i2-wustl/valve.git@feature/auth-alt"
   ]
  },
  {
   "cell_type": "markdown",
   "id": "f9a6ab1d-a5a0-49a2-b8a2-e98a8b6edab7",
   "metadata": {},
   "source": [
    "## Phase 2: Explore the API"
   ]
  },
  {
   "cell_type": "markdown",
   "id": "3cc5a970-d503-4f80-b6a5-b9d0b4e44903",
   "metadata": {},
   "source": [
    "### Import the valve modules"
   ]
  },
  {
   "cell_type": "code",
   "execution_count": 1,
   "id": "64b54a26-3925-4c7c-b715-3a638ad822fe",
   "metadata": {},
   "outputs": [],
   "source": [
    "import valve.core.auth as auth\n",
    "import valve.core.api as api\n",
    "import valve.utils.printer as pp"
   ]
  },
  {
   "cell_type": "markdown",
   "id": "110917e3-f84c-43bc-b983-593050191181",
   "metadata": {},
   "source": [
    "### Import an inline HTML renderer"
   ]
  },
  {
   "cell_type": "code",
   "execution_count": 2,
   "id": "5a1e0f05-f190-4345-bfd9-d861f8ae7af9",
   "metadata": {},
   "outputs": [],
   "source": [
    "from IPython.core.display import HTML"
   ]
  },
  {
   "cell_type": "markdown",
   "id": "5a04db8d-a55f-47cd-a7f1-6ea4c69cc728",
   "metadata": {},
   "source": [
    "### Initialize the client object"
   ]
  },
  {
   "cell_type": "markdown",
   "id": "e97131cb-8d4e-4397-bd5d-45cf12c9f105",
   "metadata": {},
   "source": [
    "To authenicate we look in this order:\n",
    "1. directly specified `user`, `key`, and `url` paramters in the `auth.login` method\n",
    "2. already supplied environment variables: `X_API_USER`, `X_API_KEY`, `X_API_URL`\n",
    "3. use a configuration file located at `$HOME/.config/valve/config.yaml that looks something like so:\n",
    "   \n",
    "   ```\n",
    "   [credentials]\n",
    "   # WUSM hosted databasin\n",
    "   user = \"XXX\"\n",
    "   key = \"YYY\"\n",
    "   url = \"ZZZ\"\n",
    "   ```"
   ]
  },
  {
   "cell_type": "code",
   "execution_count": 5,
   "id": "e605448d-560d-4d29-af9e-49c86128fb90",
   "metadata": {},
   "outputs": [],
   "source": [
    "# credentials = auth.login(user='XXX', key='YYY', url='ZZZ')\n",
    "credentials = auth.login(debug=False) \n",
    "client = api.API(debug=False, credentials=credentials)"
   ]
  },
  {
   "cell_type": "markdown",
   "id": "3850957f-4e81-4d56-8690-1c4aa6b2bb32",
   "metadata": {},
   "source": [
    "### List Users"
   ]
  },
  {
   "cell_type": "code",
   "execution_count": 6,
   "id": "87f79335-cdb7-4790-8019-c2e39dca9396",
   "metadata": {},
   "outputs": [
    {
     "name": "stderr",
     "output_type": "stream",
     "text": [
      "/Users/idas/git/i2/valve/venv/lib/python3.11/site-packages/urllib3/connectionpool.py:1095: InsecureRequestWarning: Unverified HTTPS request is being made to host 'databasin-api.dev.i2rdc3.wustl.edu'. Adding certificate verification is strongly advised. See: https://urllib3.readthedocs.io/en/latest/advanced-usage.html#tls-warnings\n",
      "  warnings.warn(\n"
     ]
    },
    {
     "data": {
      "text/html": [
       "<table>\n",
       "<thead>\n",
       "<tr><th>firstName  </th><th>isAdmin  </th><th>lastName  </th><th>updatedDateTime        </th><th>userGUID                            </th><th style=\"text-align: right;\">  userID</th><th>userName  </th></tr>\n",
       "</thead>\n",
       "<tbody>\n",
       "<tr><td>Jake       </td><td>t        </td><td>Gower     </td><td>2023-07-24 17:43:55.985</td><td>8f11e135-f855-4910-ab55-efe30a17f3da</td><td style=\"text-align: right;\">      42</td><td>jake      </td></tr>\n",
       "<tr><td>Lukas      </td><td>t        </td><td>Radtke    </td><td>2023-08-03 19:14:01.438</td><td>faecf42a-ccbb-4793-a25a-b64a080e1cea</td><td style=\"text-align: right;\">      43</td><td>lradmin   </td></tr>\n",
       "<tr><td>Chris      </td><td>t        </td><td>Lundeberg </td><td>2023-08-08 16:28:27.095</td><td>184f4078-7767-4cb7-83a3-400b5c4a91ba</td><td style=\"text-align: right;\">      41</td><td>clundeberg</td></tr>\n",
       "<tr><td>Josh       </td><td>t        </td><td>Copeland  </td><td>2023-08-28 13:53:16.006</td><td>5c5f83a9-23c0-4b73-b765-2bae7df28a01</td><td style=\"text-align: right;\">      23</td><td>jcopeland </td></tr>\n",
       "<tr><td>Indraniel  </td><td>t        </td><td>Das       </td><td>2023-09-07 19:37:28.571</td><td>47b4fa32-e855-4e32-8741-52402567ef86</td><td style=\"text-align: right;\">      36</td><td>idas      </td></tr>\n",
       "<tr><td>Hicapps    </td><td>t        </td><td>Team      </td><td>2023-10-16 22:18:25.198</td><td>4be12774-b23c-43bd-9fd9-06ccf9dd478e</td><td style=\"text-align: right;\">      46</td><td>hicapps   </td></tr>\n",
       "<tr><td>Chris      </td><td>t        </td><td>Lundeberg </td><td>2023-05-23 17:14:22.385</td><td>8dc5b8f3-684b-42a5-bb6b-5c312bb1358e</td><td style=\"text-align: right;\">      28</td><td>chris     </td></tr>\n",
       "<tr><td>Admin      </td><td>t        </td><td>Main      </td><td>2023-05-23 17:15:17.253</td><td>57c62643-62df-4ebc-b027-6fd45f5ad359</td><td style=\"text-align: right;\">      17</td><td>admin     </td></tr>\n",
       "<tr><td>Lukas      </td><td>t        </td><td>Radtke    </td><td>2023-06-02 14:41:23.019</td><td>7081888c-848f-41f3-9d04-b3b7d377d840</td><td style=\"text-align: right;\">      32</td><td>lradAdmin </td></tr>\n",
       "<tr><td>Test       </td><td>t        </td><td>Tester    </td><td>2023-06-02 14:41:49.133</td><td>4379c380-03f0-4cc2-a318-dd39f86fd100</td><td style=\"text-align: right;\">      33</td><td>tTester2  </td></tr>\n",
       "<tr><td>Courtney   </td><td>t        </td><td>Bowser    </td><td>2023-06-07 14:15:46.736</td><td>d44b6d15-7dac-4b80-adef-355e3191417b</td><td style=\"text-align: right;\">      34</td><td>courtney  </td></tr>\n",
       "<tr><td>Ian        </td><td>t        </td><td>Lackey    </td><td>2023-06-20 21:31:04.544</td><td>8d6bf628-32c7-4482-a59c-de07a0e68b07</td><td style=\"text-align: right;\">      35</td><td>ilackey   </td></tr>\n",
       "<tr><td>Michael    </td><td>t        </td><td>Nichols   </td><td>2023-06-23 19:17:12.366</td><td>44504f8f-60c5-4a28-8b28-f55b4f143803</td><td style=\"text-align: right;\">      37</td><td>michael   </td></tr>\n",
       "<tr><td>Lukas      </td><td>t        </td><td>Radtke    </td><td>2023-06-26 20:19:44.152</td><td>7cb399da-ef7a-47a5-a481-543d6306247b</td><td style=\"text-align: right;\">      38</td><td>lrad2     </td></tr>\n",
       "<tr><td>aasdasd    </td><td>f        </td><td>asasdasd  </td><td>2023-06-29 19:19:39.827</td><td>098688d3-f397-4394-959f-c0a5ef9b71a2</td><td style=\"text-align: right;\">      40</td><td>asd       </td></tr>\n",
       "</tbody>\n",
       "</table>"
      ],
      "text/plain": [
       "<IPython.core.display.HTML object>"
      ]
     },
     "execution_count": 6,
     "metadata": {},
     "output_type": "execute_result"
    }
   ],
   "source": [
    "users = client.users.list()\n",
    "printer = pp.Printer(users)\n",
    "HTML(printer.render(format='html'))"
   ]
  },
  {
   "cell_type": "code",
   "execution_count": null,
   "id": "af26f705-198a-4b23-84e9-9abaad180fd1",
   "metadata": {},
   "outputs": [],
   "source": []
  }
 ],
 "metadata": {
  "kernelspec": {
   "display_name": "Python 3 (ipykernel)",
   "language": "python",
   "name": "python3"
  },
  "language_info": {
   "codemirror_mode": {
    "name": "ipython",
    "version": 3
   },
   "file_extension": ".py",
   "mimetype": "text/x-python",
   "name": "python",
   "nbconvert_exporter": "python",
   "pygments_lexer": "ipython3",
   "version": "3.11.2"
  }
 },
 "nbformat": 4,
 "nbformat_minor": 5
}
